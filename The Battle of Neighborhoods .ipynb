{
    "nbformat_minor": 1, 
    "cells": [
        {
            "source": "## Introduction/Business Problem", 
            "cell_type": "markdown", 
            "metadata": {
                "collapsed": true
            }
        }, 
        {
            "source": "### Introduction", 
            "cell_type": "markdown", 
            "metadata": {}
        }, 
        {
            "source": "My best friend \"Aya\", the young Japanese lady just graduated from university have plan to marry with her spouse \nand will be moved to New York City after married.Because her spouse working there as a business man. \nAya has her dream to open up her own Japanese restaurant and this is a chance to open her own restaurant in the amazimg place New York City!  ", 
            "cell_type": "markdown", 
            "metadata": {}
        }, 
        {
            "source": "### Business Problem", 
            "cell_type": "markdown", 
            "metadata": {}
        }, 
        {
            "source": "Aya doesn't have any idea because she doesn't know anything about New York. \nThe important thing she have to do is exploring about New York before doing her Business Plan.", 
            "cell_type": "markdown", 
            "metadata": {}
        }, 
        {
            "source": "### Describe the data that will be using to execute the idea.", 
            "cell_type": "markdown", 
            "metadata": {}
        }, 
        {
            "source": "For this project I plan to use the Foursquare location data to execute my idea for Aya \nto suggest her where is the best area of New York city she should open her Japanese restaurant.", 
            "cell_type": "markdown", 
            "metadata": {}
        }, 
        {
            "source": "", 
            "cell_type": "code", 
            "execution_count": null, 
            "outputs": [], 
            "metadata": {}
        }
    ], 
    "nbformat": 4, 
    "metadata": {
        "kernelspec": {
            "display_name": "Python 3.6", 
            "name": "python3", 
            "language": "python"
        }, 
        "language_info": {
            "mimetype": "text/x-python", 
            "nbconvert_exporter": "python", 
            "version": "3.6.8", 
            "name": "python", 
            "pygments_lexer": "ipython3", 
            "file_extension": ".py", 
            "codemirror_mode": {
                "version": 3, 
                "name": "ipython"
            }
        }
    }
}